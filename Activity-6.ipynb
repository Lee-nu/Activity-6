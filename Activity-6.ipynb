{
 "cells": [
  {
   "cell_type": "markdown",
   "id": "14f55807",
   "metadata": {},
   "source": [
    "# Find out how many countries are there in the dataset."
   ]
  },
  {
   "cell_type": "code",
   "execution_count": 2,
   "id": "8b541eb2",
   "metadata": {},
   "outputs": [
    {
     "name": "stdout",
     "output_type": "stream",
     "text": [
      "                                country             Region  \\\n",
      "0                           Afghanistan       SouthernAsia   \n",
      "1                               Albania     SouthernEurope   \n",
      "2                               Algeria     NorthernAfrica   \n",
      "3                                Angola       MiddleAfrica   \n",
      "4                   Antigua and Barbuda          Caribbean   \n",
      "..                                  ...                ...   \n",
      "191  Venezuela (Bolivarian Republic of)       SouthAmerica   \n",
      "192                            Viet Nam  South-easternAsia   \n",
      "193                               Yemen        WesternAsia   \n",
      "194                              Zambia      EasternAfrica   \n",
      "195                            Zimbabwe      EasternAfrica   \n",
      "\n",
      "     Surface area (km2)  Population in thousands (2017)  \\\n",
      "0              652864.0                         35530.0   \n",
      "1               28748.0                          2930.0   \n",
      "2             2381741.0                         41318.0   \n",
      "3             1246700.0                         29784.0   \n",
      "4                 442.0                           102.0   \n",
      "..                  ...                             ...   \n",
      "191            912050.0                         31977.0   \n",
      "192            330967.0                         95541.0   \n",
      "193            527968.0                         28250.0   \n",
      "194            752612.0                         17094.0   \n",
      "195            390757.0                         16530.0   \n",
      "\n",
      "     GDP per capita (current US$)  Agricultural production index   \\\n",
      "0                           623.2                           125.0   \n",
      "1                          3984.2                           134.0   \n",
      "2                          4154.1                           160.0   \n",
      "3                          4714.1                           175.0   \n",
      "4                         14764.5                            88.0   \n",
      "..                            ...                             ...   \n",
      "191                       11068.9                           118.0   \n",
      "192                        2067.9                           136.0   \n",
      "193                        1106.4                           136.0   \n",
      "194                        1311.1                           179.0   \n",
      "195                         890.4                            99.0   \n",
      "\n",
      "     International trade: Imports (million US$)  \n",
      "0                                        3568.0  \n",
      "1                                        4669.0  \n",
      "2                                       47091.0  \n",
      "3                                        8790.0  \n",
      "4                                         491.0  \n",
      "..                                          ...  \n",
      "191                                     16324.0  \n",
      "192                                    174111.0  \n",
      "193                                      6861.0  \n",
      "194                                      7442.0  \n",
      "195                                      5212.0  \n",
      "\n",
      "[196 rows x 7 columns]\n"
     ]
    }
   ],
   "source": [
    "import pandas as pd\n",
    "import matplotlib.pyplot as plt\n",
    "\n",
    "data=pd.read_excel('C:/Users/VN582EN/Downloads/Dataset_w6.xlsx')\n",
    "print(data)"
   ]
  },
  {
   "cell_type": "code",
   "execution_count": 3,
   "id": "a50fa064",
   "metadata": {},
   "outputs": [
    {
     "name": "stdout",
     "output_type": "stream",
     "text": [
      "How many countries are there in the dataset?\n"
     ]
    },
    {
     "data": {
      "text/plain": [
       "196"
      ]
     },
     "execution_count": 3,
     "metadata": {},
     "output_type": "execute_result"
    }
   ],
   "source": [
    "data1=data['country'].count()\n",
    "print(\"How many countries are there in the dataset?\")\n",
    "data1"
   ]
  },
  {
   "cell_type": "markdown",
   "id": "58c05d16",
   "metadata": {},
   "source": [
    "# On average which region has the highest\n",
    "a. GDP per capita (current US )"
   ]
  },
  {
   "cell_type": "code",
   "execution_count": 9,
   "id": "e4ab5062",
   "metadata": {},
   "outputs": [
    {
     "data": {
      "text/html": [
       "<div>\n",
       "<style scoped>\n",
       "    .dataframe tbody tr th:only-of-type {\n",
       "        vertical-align: middle;\n",
       "    }\n",
       "\n",
       "    .dataframe tbody tr th {\n",
       "        vertical-align: top;\n",
       "    }\n",
       "\n",
       "    .dataframe thead th {\n",
       "        text-align: right;\n",
       "    }\n",
       "</style>\n",
       "<table border=\"1\" class=\"dataframe\">\n",
       "  <thead>\n",
       "    <tr style=\"text-align: right;\">\n",
       "      <th></th>\n",
       "      <th>country</th>\n",
       "      <th>Region</th>\n",
       "      <th>Surface area (km2)</th>\n",
       "      <th>Population in thousands (2017)</th>\n",
       "      <th>GDP per capita (current US$)</th>\n",
       "      <th>Agricultural production index</th>\n",
       "      <th>International trade: Imports (million US$)</th>\n",
       "    </tr>\n",
       "  </thead>\n",
       "  <tbody>\n",
       "    <tr>\n",
       "      <th>104</th>\n",
       "      <td>Luxembourg</td>\n",
       "      <td>WesternEurope</td>\n",
       "      <td>2586.0</td>\n",
       "      <td>584.0</td>\n",
       "      <td>100160.8</td>\n",
       "      <td>98.0</td>\n",
       "      <td>19124.0</td>\n",
       "    </tr>\n",
       "  </tbody>\n",
       "</table>\n",
       "</div>"
      ],
      "text/plain": [
       "        country         Region  Surface area (km2)  \\\n",
       "104  Luxembourg  WesternEurope              2586.0   \n",
       "\n",
       "     Population in thousands (2017)  GDP per capita (current US$)  \\\n",
       "104                           584.0                      100160.8   \n",
       "\n",
       "     Agricultural production index   \\\n",
       "104                            98.0   \n",
       "\n",
       "     International trade: Imports (million US$)  \n",
       "104                                     19124.0  "
      ]
     },
     "execution_count": 9,
     "metadata": {},
     "output_type": "execute_result"
    }
   ],
   "source": [
    "data.nlargest(1,['GDP per capita (current US$)'])"
   ]
  },
  {
   "cell_type": "markdown",
   "id": "d55ebe16",
   "metadata": {},
   "source": [
    "# 𝑏.𝐼𝑛𝑡𝑒𝑟𝑛𝑎𝑡𝑖𝑜𝑛𝑎𝑙𝑡𝑟𝑎𝑑𝑒:𝐼𝑚𝑝𝑜𝑟𝑡𝑠(𝑚𝑖𝑙𝑙𝑖𝑜𝑛𝑈𝑆 )"
   ]
  },
  {
   "cell_type": "code",
   "execution_count": 5,
   "id": "9e0ef6db",
   "metadata": {},
   "outputs": [
    {
     "data": {
      "text/html": [
       "<div>\n",
       "<style scoped>\n",
       "    .dataframe tbody tr th:only-of-type {\n",
       "        vertical-align: middle;\n",
       "    }\n",
       "\n",
       "    .dataframe tbody tr th {\n",
       "        vertical-align: top;\n",
       "    }\n",
       "\n",
       "    .dataframe thead th {\n",
       "        text-align: right;\n",
       "    }\n",
       "</style>\n",
       "<table border=\"1\" class=\"dataframe\">\n",
       "  <thead>\n",
       "    <tr style=\"text-align: right;\">\n",
       "      <th></th>\n",
       "      <th>country</th>\n",
       "      <th>Region</th>\n",
       "      <th>Surface area (km2)</th>\n",
       "      <th>Population in thousands (2017)</th>\n",
       "      <th>GDP per capita (current US$)</th>\n",
       "      <th>Agricultural production index</th>\n",
       "      <th>International trade: Imports (million US$)</th>\n",
       "    </tr>\n",
       "  </thead>\n",
       "  <tbody>\n",
       "    <tr>\n",
       "      <th>187</th>\n",
       "      <td>United States of America</td>\n",
       "      <td>NorthernAmerica</td>\n",
       "      <td>9833517.0</td>\n",
       "      <td>324460.0</td>\n",
       "      <td>56053.8</td>\n",
       "      <td>111.0</td>\n",
       "      <td>2249661.0</td>\n",
       "    </tr>\n",
       "  </tbody>\n",
       "</table>\n",
       "</div>"
      ],
      "text/plain": [
       "                      country           Region  Surface area (km2)  \\\n",
       "187  United States of America  NorthernAmerica           9833517.0   \n",
       "\n",
       "     Population in thousands (2017)  GDP per capita (current US$)  \\\n",
       "187                        324460.0                       56053.8   \n",
       "\n",
       "     Agricultural production index   \\\n",
       "187                           111.0   \n",
       "\n",
       "     International trade: Imports (million US$)  \n",
       "187                                   2249661.0  "
      ]
     },
     "execution_count": 5,
     "metadata": {},
     "output_type": "execute_result"
    }
   ],
   "source": [
    "data.nlargest(1,['International trade: Imports (million US$)'])"
   ]
  },
  {
   "cell_type": "markdown",
   "id": "bb50e127",
   "metadata": {},
   "source": [
    "# Find out which region has more consistent with respect to GDP per capita(current US$)"
   ]
  },
  {
   "cell_type": "code",
   "execution_count": 11,
   "id": "ec23799e",
   "metadata": {},
   "outputs": [
    {
     "data": {
      "image/png": "[encoded data removed]",
      "text/plain": [
       "<Figure size 432x288 with 1 Axes>"
      ]
     },
     "metadata": {
      "needs_background": "light"
     },
     "output_type": "display_data"
    }
   ],
   "source": [
    "data3= data.groupby('Region')['GDP per capita (current US$)'].std().sort_values().plot(kind ='bar')\n",
    "data3\n",
    "plt.title(\"SD of GDP per capita (current US$)\")\n",
    "\n",
    "plt.show()"
   ]
  },
  {
   "cell_type": "markdown",
   "id": "4a600295",
   "metadata": {},
   "source": [
    "WesternAfrica is the region with most consistent GDP among its countries,(smaller values means the points are closer to the mean,so Western Africa is more consistent.)\n"
   ]
  }
 ],
 "metadata": {
  "kernelspec": {
   "display_name": "Python 3 (ipykernel)",
   "language": "python",
   "name": "python3"
  },
  "language_info": {
   "codemirror_mode": {
    "name": "ipython",
    "version": 3
   },
   "file_extension": ".py",
   "mimetype": "text/x-python",
   "name": "python",
   "nbconvert_exporter": "python",
   "pygments_lexer": "ipython3",
   "version": "3.9.12"
  }
 },
 "nbformat": 4,
 "nbformat_minor": 5
}
